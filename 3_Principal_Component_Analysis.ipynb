{
  "nbformat": 4,
  "nbformat_minor": 0,
  "metadata": {
    "colab": {
      "name": "Principal Component Analysis.ipynb",
      "provenance": [],
      "collapsed_sections": []
    },
    "kernelspec": {
      "name": "python3",
      "display_name": "Python 3"
    },
    "language_info": {
      "name": "python"
    }
  },
  "cells": [
    {
      "cell_type": "markdown",
      "source": [
        "# **Principal Component Analysis:**\n",
        "\n",
        "---\n",
        "\n",
        "\n",
        "In the template, you are given a small dataset with two features, resulting in 2D data that is stored in mat. The data is then standardized, using the z-score scaling, and stored in z_mat.\n",
        "\n",
        "In preparation of the the PCA technique, the covariance matrix is computed and the eigendecomposition is performed on the covariance matrix.\n",
        "\n",
        "In the following, read the tasks and implement their solution in the corresponding cells\n",
        "of the template."
      ],
      "metadata": {
        "id": "YW65TZ6E_eyP"
      }
    },
    {
      "cell_type": "code",
      "execution_count": 1,
      "metadata": {
        "id": "P6yMjA9R9CTZ"
      },
      "outputs": [],
      "source": [
        "#importing important packages and libraries:\n",
        "import numpy as np\n",
        "import matplotlib.pyplot as plt"
      ]
    },
    {
      "cell_type": "code",
      "source": [
        "# Feature values\n",
        "x1 = np.array([1.1,2.2,2.5,4,5.2,6.1]) # first feature\n",
        "x2 = np.array([1.4,2.1,2.9,5,5.1,6.7]) # second feature\n",
        "assert len(x1) == len(x2)"
      ],
      "metadata": {
        "id": "idLR4fjw_quP"
      },
      "execution_count": 2,
      "outputs": []
    },
    {
      "cell_type": "code",
      "source": [
        "# Combine features to data matrix\n",
        "mat = np.array([x1, x2]).transpose()\n",
        "print(mat)"
      ],
      "metadata": {
        "colab": {
          "base_uri": "https://localhost:8080/"
        },
        "id": "lZ2xqqSB__T8",
        "outputId": "ac1e7439-6da5-4d1e-a189-24a537d7aaa4"
      },
      "execution_count": 3,
      "outputs": [
        {
          "output_type": "stream",
          "name": "stdout",
          "text": [
            "[[1.1 1.4]\n",
            " [2.2 2.1]\n",
            " [2.5 2.9]\n",
            " [4.  5. ]\n",
            " [5.2 5.1]\n",
            " [6.1 6.7]]\n"
          ]
        }
      ]
    },
    {
      "cell_type": "code",
      "source": [
        "# Plot the data\n",
        "plt.scatter(mat[:,0], mat[:,1])\n",
        "plt.show()"
      ],
      "metadata": {
        "colab": {
          "base_uri": "https://localhost:8080/",
          "height": 265
        },
        "id": "u54XT5I0AAvu",
        "outputId": "dee08061-5be5-4c96-fdce-541195e9ec12"
      },
      "execution_count": 4,
      "outputs": [
        {
          "output_type": "display_data",
          "data": {
            "text/plain": [
              "<Figure size 432x288 with 1 Axes>"
            ],
            "image/png": "[encoded data removed]"
          },
          "metadata": {
            "needs_background": "light"
          }
        }
      ]
    },
    {
      "cell_type": "code",
      "source": [
        "# Standardize the features\n",
        "mean1 = np.mean(mat[:,0])\n",
        "std1 = np.std(mat[:,0])\n",
        "mean2 = np.mean(mat[:,1])\n",
        "std2 = np.std(mat[:,1])\n",
        "z_mat = np.zeros(mat.shape)\n",
        "z_mat[:,0] = (mat[:,0] - mean1) / std1\n",
        "z_mat[:,1] = (mat[:,1] - mean2) / std2\n",
        "print(z_mat)"
      ],
      "metadata": {
        "colab": {
          "base_uri": "https://localhost:8080/"
        },
        "id": "2S2bgd71ACQc",
        "outputId": "f011724f-cb74-450d-f4ff-aa3dca9c62fa"
      },
      "execution_count": 5,
      "outputs": [
        {
          "output_type": "stream",
          "name": "stdout",
          "text": [
            "[[-1.38195552 -1.31932673]\n",
            " [-0.75292749 -0.9449232 ]\n",
            " [-0.58137439 -0.51703345]\n",
            " [ 0.2763911   0.60617714]\n",
            " [ 0.9626035   0.65966336]\n",
            " [ 1.4772628   1.51544286]]\n"
          ]
        }
      ]
    },
    {
      "cell_type": "code",
      "source": [
        "# Plot the standardized data\n",
        "plt.scatter(z_mat[:,0], z_mat[:,1])\n",
        "plt.show()"
      ],
      "metadata": {
        "colab": {
          "base_uri": "https://localhost:8080/",
          "height": 265
        },
        "id": "Z4GVjozWAFgU",
        "outputId": "0a5fdbcf-1f01-4eef-d493-c97f9ae76fcd"
      },
      "execution_count": 6,
      "outputs": [
        {
          "output_type": "display_data",
          "data": {
            "text/plain": [
              "<Figure size 432x288 with 1 Axes>"
            ],
            "image/png": "[encoded data removed]"
          },
          "metadata": {
            "needs_background": "light"
          }
        }
      ]
    },
    {
      "cell_type": "code",
      "source": [
        "# Compute the covariance matrix\n",
        "covariance_mat = np.cov(z_mat.transpose())\n",
        "print(covariance_mat)"
      ],
      "metadata": {
        "colab": {
          "base_uri": "https://localhost:8080/"
        },
        "id": "7qB-kFvFAIQU",
        "outputId": "dad8cba2-d0fa-4cbe-98bf-beb9432ac119"
      },
      "execution_count": 7,
      "outputs": [
        {
          "output_type": "stream",
          "name": "stdout",
          "text": [
            "[[1.2        1.17530862]\n",
            " [1.17530862 1.2       ]]\n"
          ]
        }
      ]
    },
    {
      "cell_type": "code",
      "source": [
        "# Compute the eigendecomposition\n",
        "eigen_values, eigen_vectors = np.linalg.eig(covariance_mat)\n",
        "print(\"Eigenvectors: \\n\", eigen_vectors,\"\\n\")\n",
        "print(\"Eigenvalues: \\n\", eigen_values, \"\\n\")"
      ],
      "metadata": {
        "colab": {
          "base_uri": "https://localhost:8080/"
        },
        "id": "iejJxpBiAK7k",
        "outputId": "25b7e177-6a3a-47d0-cfe9-3dabdbe72aae"
      },
      "execution_count": 8,
      "outputs": [
        {
          "output_type": "stream",
          "name": "stdout",
          "text": [
            "Eigenvectors: \n",
            " [[ 0.70710678 -0.70710678]\n",
            " [ 0.70710678  0.70710678]] \n",
            "\n",
            "Eigenvalues: \n",
            " [2.37530862 0.02469138] \n",
            "\n"
          ]
        }
      ]
    },
    {
      "cell_type": "code",
      "source": [
        "# Plot of standarized data and eigenvectors\n",
        "plt.scatter(z_mat[:,0], z_mat[:,1])\n",
        "plt.arrow(0, 0, eigen_vectors[0,0], eigen_vectors[1,0], color='r',\n",
        "head_width=0.2, head_length=0.2)\n",
        "plt.arrow(0, 0, eigen_vectors[0,1], eigen_vectors[1,1], color='g',\n",
        "head_width=0.2, head_length=0.2)"
      ],
      "metadata": {
        "colab": {
          "base_uri": "https://localhost:8080/",
          "height": 282
        },
        "id": "vYwGnnuqAMz2",
        "outputId": "f9dbeeae-ecb8-4ada-f1cc-c1b35407f7a8"
      },
      "execution_count": 9,
      "outputs": [
        {
          "output_type": "execute_result",
          "data": {
            "text/plain": [
              "<matplotlib.patches.FancyArrow at 0x7f5bd2affa90>"
            ]
          },
          "metadata": {},
          "execution_count": 9
        },
        {
          "output_type": "display_data",
          "data": {
            "text/plain": [
              "<Figure size 432x288 with 1 Axes>"
            ],
            "image/png": "[encoded data removed]"
          },
          "metadata": {
            "needs_background": "light"
          }
        }
      ]
    },
    {
      "cell_type": "markdown",
      "source": [
        "# **Application of PCA**"
      ],
      "metadata": {
        "id": "979GQRdw_x3F"
      }
    },
    {
      "cell_type": "code",
      "source": [
        "pc_1 = eigen_vectors[:, 0] # First principal component\n",
        "transformed_z_mat = np.zeros(z_mat.shape[0]) # Zero-initialised array to store the transformed vectors\n",
        "# Project each row vector on first principal component\n",
        "for i in range(0, transformed_z_mat.shape[0]):\n",
        "  transformed_z_mat[i] = pc_1.dot(z_mat[i,:])\n",
        "# Plot the transformed vectors\n",
        "plt.grid(b = True)\n",
        "plt.scatter(transformed_z_mat, [0] * transformed_z_mat.shape[0], c = [[0,0,0]] ,marker=\"o\")\n",
        "plt.show()"
      ],
      "metadata": {
        "colab": {
          "base_uri": "https://localhost:8080/",
          "height": 265
        },
        "id": "-8SpemuAAP3d",
        "outputId": "447c743c-a708-48f0-ecf1-418f8343a45c"
      },
      "execution_count": 13,
      "outputs": [
        {
          "output_type": "display_data",
          "data": {
            "text/plain": [
              "<Figure size 432x288 with 1 Axes>"
            ],
            "image/png": "[encoded data removed]"
          },
          "metadata": {
            "needs_background": "light"
          }
        }
      ]
    },
    {
      "cell_type": "markdown",
      "source": [
        "# **Reconstruction of data**"
      ],
      "metadata": {
        "id": "osp3fJNWAwcf"
      }
    },
    {
      "cell_type": "code",
      "source": [
        "reverse_z_mat = np.zeros((transformed_z_mat.shape[0], 2)) # Matrix to store the reconstructed data (still standardised)\n",
        "# Let M be the matrix of eigenvectors as columns, x a original sample, and z a projected sample.\n",
        "# Then projection on the principal components is achieved as follows:\n",
        "# z = x * M\n",
        "# Thus, this projection can be reverted by:\n",
        "# z * inverse(M) = x\n",
        "\n",
        "# Revert the projection\n",
        "for i, value in enumerate(transformed_z_mat):\n",
        "  row = np.array([value, 0]) # Second component is always zero, but it is needed for having matching dimensions in matrix multiplication\n",
        "  reverse_z_mat[i] = row.dot(np.linalg.inv(eigen_vectors))\n",
        "# Revert z-score-standardisation\n",
        "reverse_mat = np.zeros(reverse_z_mat.shape) # Matrix to store the reconstructed data (with standardisation reverted)\n",
        "reverse_mat[:, 0] = reverse_z_mat[:, 0] * std1 + mean1\n",
        "reverse_mat[:, 1] = reverse_z_mat[:, 1] * std2 + mean2\n",
        "reverse_mat"
      ],
      "metadata": {
        "colab": {
          "base_uri": "https://localhost:8080/"
        },
        "id": "_GI_8apjAWmd",
        "outputId": "1d976fa8-2d4a-447e-ac3f-65697bb4165c"
      },
      "execution_count": 14,
      "outputs": [
        {
          "output_type": "execute_result",
          "data": {
            "text/plain": [
              "array([[1.15476042, 1.34145333],\n",
              "       [2.03212571, 2.27948147],\n",
              "       [2.55625746, 2.83985278],\n",
              "       [4.28835332, 4.69170933],\n",
              "       [4.93511979, 5.38319458],\n",
              "       [6.1333833 , 6.66430851]])"
            ]
          },
          "metadata": {},
          "execution_count": 14
        }
      ]
    },
    {
      "cell_type": "markdown",
      "source": [
        "# **Plotting of data**"
      ],
      "metadata": {
        "id": "40jy_-_UBJLF"
      }
    },
    {
      "cell_type": "code",
      "source": [
        "# Plot reconstructed and original data\n",
        "plt.scatter(reverse_mat[:, 0], reverse_mat[:, 1], c = [[0,0,0]], marker = \"o\", label = \"Reconstructed\")\n",
        "plt.scatter(mat[:, 0], mat[:, 1], c = [[0,0,0]], marker = \"x\", label = \"Original\")\n",
        "plt.legend()\n",
        "plt.show()"
      ],
      "metadata": {
        "colab": {
          "base_uri": "https://localhost:8080/",
          "height": 265
        },
        "id": "qRJwohZUBHMB",
        "outputId": "a63e5490-1e84-45e9-9d34-88dc12a2548b"
      },
      "execution_count": 18,
      "outputs": [
        {
          "output_type": "display_data",
          "data": {
            "text/plain": [
              "<Figure size 432x288 with 1 Axes>"
            ],
            "image/png": "[encoded data removed]"
          },
          "metadata": {
            "needs_background": "light"
          }
        }
      ]
    },
    {
      "cell_type": "markdown",
      "source": [
        "## **Error of PCA**"
      ],
      "metadata": {
        "id": "OyXY9ywzBWd_"
      }
    },
    {
      "cell_type": "code",
      "source": [
        "import math\n",
        "# Calculate error of PCA\n",
        "error_sum = 0 # Accumulate error in this variable\n",
        "for point_1, point_2 in zip(mat, reverse_mat):\n",
        "  error_sum += math.sqrt((point_1[0] - point_2[0])**2 + (point_1[1] -point_2[1])**2)\n",
        "print(\"Error:\", error_sum)"
      ],
      "metadata": {
        "colab": {
          "base_uri": "https://localhost:8080/"
        },
        "id": "jp4iRHSvBNFm",
        "outputId": "09ac3f1f-5748-4f56-8067-dbe5e4ae2579"
      },
      "execution_count": 19,
      "outputs": [
        {
          "output_type": "stream",
          "name": "stdout",
          "text": [
            "Error: 1.2670368335684183\n"
          ]
        }
      ]
    },
    {
      "cell_type": "code",
      "source": [
        ""
      ],
      "metadata": {
        "id": "ODENzxz6Bfon"
      },
      "execution_count": null,
      "outputs": []
    }
  ]
}